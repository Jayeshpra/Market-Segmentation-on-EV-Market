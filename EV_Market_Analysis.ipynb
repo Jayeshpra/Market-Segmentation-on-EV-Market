{
 "cells": [
  {
   "cell_type": "code",
   "execution_count": 14,
   "metadata": {},
   "outputs": [],
   "source": [
    "import pandas as pd\n",
    "import numpy as np\n",
    "import matplotlib.pyplot as plt\n",
    "from sklearn.cluster import KMeans\n",
    "from sklearn.decomposition import PCA\n",
    "from sklearn.preprocessing import StandardScaler\n",
    "pd.set_option('expand_frame_repr', False)"
   ]
  },
  {
   "cell_type": "code",
   "execution_count": null,
   "metadata": {},
   "outputs": [],
   "source": [
    "# Exploring the dataset\n",
    "\n",
    "ev_data = pd.read_csv('EV_Dataset1.csv')\n",
    "print(\"Attribute of the Dataset: \", ev_data.columns)\n",
    "print(\"Dimention of the Dataset: \", ev_data.shape)\n",
    "print(ev_data)"
   ]
  },
  {
   "cell_type": "code",
   "execution_count": null,
   "metadata": {},
   "outputs": [],
   "source": [
    "ev_data.fillna(0, inplace=True)   # to remove the none values\n",
    "ev_data[ev_data.select_dtypes([float]).columns] = ev_data.select_dtypes([float]).astype(int)   # to convert the float values to integer\n",
    "ev_data = ev_data.iloc[:-1]\n",
    "print(ev_data)"
   ]
  },
  {
   "cell_type": "code",
   "execution_count": null,
   "metadata": {},
   "outputs": [],
   "source": [
    "x = np.arange(len(ev_data['State Name']))\n",
    "width = 0.8\n",
    "\n",
    "for data in ev_data.columns[1:7]:\n",
    "\n",
    "    plt.figure(figsize=(12, 8))\n",
    "    plt.bar(x, ev_data[data], width, label=data, color='skyblue')\n",
    "    plt.xlabel(\"States\", fontsize=14)\n",
    "    plt.ylabel(\"Sales\", fontsize=14)\n",
    "    plt.title(f\"States vs Sales ({data})\", fontsize=16)\n",
    "    plt.xticks(x, ev_data['State Name'])\n",
    "    plt.xticks(rotation=90)\n",
    "    plt.legend()\n",
    "    plt.tight_layout()\n",
    "    plt.show()\n",
    "\n",
    "plt.figure(figsize=(12, 8))\n",
    "plt.bar(x, ev_data['Grand Total'], label='Grand total', color='blue')\n",
    "plt.xlabel(\"State\", fontsize=14)\n",
    "plt.ylabel(\"Sales\", fontsize=14)\n",
    "plt.title(f\"States vs Total Sales of Electric Vehicles\", fontsize=16)\n",
    "plt.xticks(x, ev_data['State Name'])\n",
    "plt.xticks(rotation=90)\n",
    "plt.legend()\n",
    "plt.tight_layout()\n",
    "plt.show()"
   ]
  },
  {
   "cell_type": "code",
   "execution_count": 18,
   "metadata": {},
   "outputs": [],
   "source": [
    "# Extracting Segments\n",
    "\n",
    "Extracted_features = ev_data[['Two Wheeler', 'Three Wheeler', 'Four Wheeler', 'Goods Vehicles', 'Public Service Vehicle', 'Other Vehicles']]\n",
    "scaler = StandardScaler()\n",
    "scaled_features = scaler.fit_transform(Extracted_features)"
   ]
  },
  {
   "cell_type": "code",
   "execution_count": null,
   "metadata": {},
   "outputs": [],
   "source": [
    "inertia = []\n",
    "k_range = range(2, 10)\n",
    "\n",
    "for k in k_range:\n",
    "\n",
    "    kmean = KMeans(n_clusters=k, random_state=42)\n",
    "    kmean.fit(scaled_features)\n",
    "    inertia.append(kmean.inertia_)\n",
    "\n",
    "plt.plot(k_range, inertia, 'bx-')\n",
    "plt.xlabel('Number of clusters K')\n",
    "plt.ylabel('Inertia')\n",
    "plt.title('Elbow method to determine optimal k')\n",
    "plt.show()"
   ]
  },
  {
   "cell_type": "code",
   "execution_count": null,
   "metadata": {},
   "outputs": [],
   "source": [
    "kmeans = KMeans(n_clusters=5, random_state=42)\n",
    "Extracted_features['cluster'] = kmeans.fit_predict(scaled_features)\n",
    "clustered_states = Extracted_features['cluster'].value_counts()\n",
    "sorted_clusters = clustered_states.sort_index(ascending=True)\n",
    "grouped = Extracted_features.groupby('cluster').sum()\n",
    "print(sorted_clusters)\n",
    "print(grouped)"
   ]
  },
  {
   "cell_type": "code",
   "execution_count": null,
   "metadata": {},
   "outputs": [],
   "source": [
    "# Profiling Segments\n",
    "\n",
    "x = np.arange(len(grouped))\n",
    "colors = ['#03045E', '#0077B6', '#00B4D8', '#90E0EF', '#CAF0F8']\n",
    "width = 0.2\n",
    "for data1, j in zip(grouped.columns[:6], range(0, 6)):\n",
    "\n",
    "    plt.figure(figsize=(12, 8))\n",
    "    plt.bar(x, grouped[data1], width, label=[f'Cluster {i} ' for i in grouped.index], color=[colors[i] for i in grouped.index])\n",
    "    plt.xlabel(\"cluster\", fontsize=14)\n",
    "    plt.ylabel(\"sales by the cluster\", fontsize=14)\n",
    "    plt.title(f\"Clusters vs Sales ({data1})\", fontsize=16)\n",
    "    for i in grouped.index:\n",
    "        plt.text(i, grouped.iloc[i, j] + 1,  \n",
    "                str(grouped.iloc[i, j]),       \n",
    "                ha='center', va='bottom') \n",
    "    plt.xticks(x, labels = [f'Cluster {i} \\nwith {sorted_clusters.iloc[i:i+1,].values} states \\nhaving {grouped.iloc[i:i+1, j].values} sales' for i in grouped.index])\n",
    "    plt.legend()\n",
    "    plt.tight_layout()\n",
    "    plt.show()"
   ]
  },
  {
   "cell_type": "code",
   "execution_count": null,
   "metadata": {},
   "outputs": [],
   "source": [
    "pca = PCA(n_components=2)\n",
    "pca_features = pca.fit_transform(scaled_features)\n",
    "\n",
    "scatter = plt.scatter(scaled_features[:, 0], scaled_features[:, 1], c=Extracted_features['cluster'], label='o', cmap='viridis')\n",
    "plt.colorbar(scatter, label='Cluster')\n",
    "plt.xlabel('PCA Component 1')\n",
    "plt.ylabel('PCA Component 2')\n",
    "plt.title('KMeans Clustering with PCA')\n",
    "plt.show()"
   ]
  },
  {
   "cell_type": "code",
   "execution_count": null,
   "metadata": {},
   "outputs": [],
   "source": [
    "Total_Sales_by_each_cluster = []\n",
    "\n",
    "for i in grouped.index:\n",
    "\n",
    "    total_sales = grouped.iloc[i, :].sum()\n",
    "    Total_Sales_by_each_cluster.append(total_sales)\n",
    "\n",
    "print(Total_Sales_by_each_cluster)"
   ]
  },
  {
   "cell_type": "code",
   "execution_count": null,
   "metadata": {},
   "outputs": [],
   "source": [
    "plt.figure(figsize=(10, 8))\n",
    "plt.bar(x, Total_Sales_by_each_cluster, width=width, label=[f\"cluster {i}\" for i in grouped.index], color=[colors[i] for i in grouped.index])\n",
    "plt.xlabel('Clusters', fontsize=14)\n",
    "plt.ylabel('Total sales', fontsize=14)\n",
    "plt.title('Cluster vs Total sales of All Type EVs', fontsize=16)\n",
    "for i in grouped.index:\n",
    "    plt.text(i, Total_Sales_by_each_cluster[i] + 1,  \n",
    "             str(Total_Sales_by_each_cluster[i]),       \n",
    "             ha='center', va='bottom') \n",
    "plt.xticks(grouped.index, labels=[f\"cluster {i} \\n{sorted_clusters.iloc[i,]} states\" for i in grouped.index])\n",
    "plt.legend()\n",
    "plt.tight_layout()\n",
    "plt.show()"
   ]
  },
  {
   "cell_type": "code",
   "execution_count": null,
   "metadata": {},
   "outputs": [],
   "source": [
    "# Selecting the Target Segment\n",
    "\n",
    "max_sales = grouped.iloc[1:, :]    # Neglecting cluster 0 as it contains 26 states which are hard to target\n",
    "print(max_sales, '\\n')\n",
    "\n",
    "for i, colunm in zip(range(0, 6), max_sales.columns):\n",
    "\n",
    "    max = max_sales.iloc[:, i].max()\n",
    "    max_cluster = max_sales.iloc[:, i].idxmax()\n",
    "    print(f\"Cluster {max_cluster} has Maximum sales of {colunm} which is {max}.\")\n",
    "    m = Extracted_features[Extracted_features['cluster'] == max_cluster].index\n",
    "    if len(m) == 1:\n",
    "        print(f\"It has state: {ev_data.iloc[m, 0].values} which is best to sell {colunm}. \\n\")\n",
    "    else:\n",
    "        print(f\"It has states: {ev_data.iloc[m, 0].values} which are best to sell {colunm}. \\n\")"
   ]
  }
 ],
 "metadata": {
  "kernelspec": {
   "display_name": "Python 3",
   "language": "python",
   "name": "python3"
  },
  "language_info": {
   "codemirror_mode": {
    "name": "ipython",
    "version": 3
   },
   "file_extension": ".py",
   "mimetype": "text/x-python",
   "name": "python",
   "nbconvert_exporter": "python",
   "pygments_lexer": "ipython3",
   "version": "3.12.0"
  }
 },
 "nbformat": 4,
 "nbformat_minor": 2
}
